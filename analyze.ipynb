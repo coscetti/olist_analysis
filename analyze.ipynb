{
  "cells": [
    {
      "metadata": {
        "_uuid": "5111206dc36fb10884bd55c2075a645b2be9d75c"
      },
      "cell_type": "markdown",
      "source": "# Analysing E Commerce Dataset"
    },
    {
      "metadata": {
        "_uuid": "3600e7c6b4a0a5bded8c3c2706a7eeecc3f4c81a"
      },
      "cell_type": "markdown",
      "source": "The dataset is made public by Olist , the largest department store in Brazil . There are multiple datasets consisting of customer transaction details . The dataset provides a great opportunity to let us explore in different angles like \n\n* What is the average transaction value ?\n* Most bought customer categories \n* Trend of sales over the day,week,month\n* Number of products boight by each customer\n* Delivery days ...\n"
    },
    {
      "metadata": {
        "_uuid": "e2d8e55d4b12fb327114ea490219fcf68c60cf94"
      },
      "cell_type": "markdown",
      "source": " Latest version changes - Version 9 - Uploaded the previous version of the Olist dataset ( private one) since I have done all my analysis on this and the current version uploaded by Olist team required a lot of changes."
    },
    {
      "metadata": {
        "trusted": true,
        "_uuid": "05a93ac030a6d99e2fd386e23298449d2a654e2d"
      },
      "cell_type": "code",
      "source": "## Loading the required libraries:\nimport numpy as np\nimport pandas as pd \nimport matplotlib.pyplot as plt\n%matplotlib inline \nimport seaborn as sns\nimport datetime as dt\nimport calendar\nfrom scipy.stats import skew,kurtosis\n\nimport warnings\nwarnings.filterwarnings('ignore')\n",
      "execution_count": null,
      "outputs": []
    },
    {
      "metadata": {
        "trusted": true,
        "_uuid": "305f791f58ce37cb8e0179e7bb5d9a04a42563da"
      },
      "cell_type": "code",
      "source": "from subprocess import check_output\nprint(check_output([\"ls\",\"../input/olist-v5-data\"]).decode(\"utf8\"))",
      "execution_count": null,
      "outputs": []
    },
    {
      "metadata": {
        "trusted": true,
        "_uuid": "e62f9a048aa3250de3c2d8ce0fd54564e98423e2"
      },
      "cell_type": "code",
      "source": "## Reading the datas:\norder = pd.read_csv(\"../input/olist-v5-data/olist_public_dataset_v2.csv\")  ## Unclassified orders dataset\ncustomer=pd.read_csv(\"../input/olist-v5-data/olist_public_dataset_v2_customers.csv\")  ### Unique customer id \npayment =pd.read_csv(\"../input/olist-v5-data/payments_olist_public_dataset.csv\")  ### Payment dataset\nproduct = pd.read_csv(\"../input/brazilian-ecommerce/product_category_name_translation.csv\")  ## Product translation to english\ngeo=pd.read_csv(\"../input/olist-v5-data/geolocation_olist_public_dataset.csv\")  ## Location data\nsellers=pd.read_csv(\"../input/olist-v5-data/sellers_olist_public_dataset_.csv\") ## Seller information",
      "execution_count": null,
      "outputs": []
    },
    {
      "metadata": {
        "trusted": true,
        "_uuid": "3011be9e162d5b2ebf35496127442e263a314a72"
      },
      "cell_type": "code",
      "source": "order.shape",
      "execution_count": null,
      "outputs": []
    },
    {
      "metadata": {
        "trusted": true,
        "_uuid": "bf71448aa5e388aeff72f04acc48c7f7ccaaf796"
      },
      "cell_type": "code",
      "source": "payment.shape",
      "execution_count": null,
      "outputs": []
    },
    {
      "metadata": {
        "trusted": true,
        "_uuid": "30e776b869c40a138be57f5d8794da72efa89815"
      },
      "cell_type": "code",
      "source": "customer.shape",
      "execution_count": null,
      "outputs": []
    },
    {
      "metadata": {
        "trusted": true,
        "_uuid": "e72303c74a3326941c07702482d3ccd50a88745a"
      },
      "cell_type": "code",
      "source": "product.shape",
      "execution_count": null,
      "outputs": []
    },
    {
      "metadata": {
        "trusted": true,
        "_uuid": "87641eb9f831528c5f3ddcb8c4b6e18838ac5738"
      },
      "cell_type": "code",
      "source": "geo.shape",
      "execution_count": null,
      "outputs": []
    },
    {
      "metadata": {
        "trusted": true,
        "_uuid": "46d5c2a7ff4dc50a99341a458f241e423b522a7b"
      },
      "cell_type": "code",
      "source": "## Joining the order and payment :\n#order_pay=pd.merge(order,payment,how=\"left\",on=['order_id','order_id'])\n## Joining the order_payment with product category translation :\n#order_product=pd.merge(order_pay,product,how=\"left\",on=['product_category_name','product_category_name'])",
      "execution_count": null,
      "outputs": []
    },
    {
      "metadata": {
        "trusted": true,
        "_uuid": "e047f573c994bf53b9c71b15cf7b63d3c5d80b60"
      },
      "cell_type": "code",
      "source": "#Now that we have joined the relevant tables,lets take a look at the data:",
      "execution_count": null,
      "outputs": []
    },
    {
      "metadata": {
        "_uuid": "54c0c3013498aaa8d08a5fcb6c4e3feb09e26727"
      },
      "cell_type": "markdown",
      "source": "### Order Summary:"
    },
    {
      "metadata": {
        "trusted": true,
        "_uuid": "ecff0961ff451e72efc46fb66082688faad057fa"
      },
      "cell_type": "code",
      "source": "print(\"Total number of orders in the database:\",order['order_id'].nunique())\nprint(\"Total Number of customers:\",order['customer_id'].nunique())",
      "execution_count": null,
      "outputs": []
    },
    {
      "metadata": {
        "_uuid": "6cd136e6591b8618a18b95ce102ce515f4d1b99d"
      },
      "cell_type": "markdown",
      "source": "Lets check the order status"
    },
    {
      "metadata": {
        "trusted": true,
        "_uuid": "28338cef6771aa29ab6976bca1bc8ac9ccbc456a"
      },
      "cell_type": "code",
      "source": "status=order.groupby('order_status')['order_id'].nunique().sort_values(ascending=False)",
      "execution_count": null,
      "outputs": []
    },
    {
      "metadata": {
        "trusted": true,
        "_uuid": "d9b51d92753e9e3530c81d400f1eb6692b98f7dd"
      },
      "cell_type": "code",
      "source": "status",
      "execution_count": null,
      "outputs": []
    },
    {
      "metadata": {
        "_uuid": "9bd05a4a0d8b6c2a06976358af541646aed81647"
      },
      "cell_type": "markdown",
      "source": "A majority of the orders in the database are delivered products , while some are in transit ."
    },
    {
      "metadata": {
        "_uuid": "66d3ec7d08cfeeffc97c9607bb206220ff1b0856"
      },
      "cell_type": "markdown",
      "source": "### Order Value :"
    },
    {
      "metadata": {
        "_uuid": "7f6f48437a8de9126edbea3ea5fd99b4e0562162"
      },
      "cell_type": "markdown",
      "source": "Lets take a look at the order value column . We see that there are no currency value specified and we assume that it is in local currency unit -BRL . "
    },
    {
      "metadata": {
        "trusted": true,
        "_uuid": "513570f36187557d2a51e2271d326377023d33cf"
      },
      "cell_type": "code",
      "source": "## Executive Summary:\nprint(\"Maximum order amount is BRL:\",order['order_products_value'].max())\nprint(\"Minumum order amount is BRL:\",order['order_products_value'].min())\nprint(\"Average order value is BRL:\",order['order_products_value'].mean())\nprint(\"Median order value is BRL:\",order['order_products_value'].median())",
      "execution_count": null,
      "outputs": []
    },
    {
      "metadata": {
        "_uuid": "2a25fb5b9edf66ee2e1f2396993faf9f04b63cc5"
      },
      "cell_type": "markdown",
      "source": "We summarise the order with the help of order id and have a look at the order value and freight value ."
    },
    {
      "metadata": {
        "trusted": true,
        "_uuid": "8c52759b72510e77f7163de2dab6c8ff63996635"
      },
      "cell_type": "code",
      "source": "value = order.groupby('order_id')['order_products_value','order_freight_value'].sum().sort_values(by='order_products_value',ascending=False).reset_index()",
      "execution_count": null,
      "outputs": []
    },
    {
      "metadata": {
        "_uuid": "1e5dbc56f5eac7d4ccb330ec14ff8e21f62041ff"
      },
      "cell_type": "markdown",
      "source": "The top 5 orders and their value is shown below:"
    },
    {
      "metadata": {
        "trusted": true,
        "_uuid": "245a072b9e9f1fdd5bcc0d7562fb88c1934c2db6"
      },
      "cell_type": "code",
      "source": "value.head()",
      "execution_count": null,
      "outputs": []
    },
    {
      "metadata": {
        "_uuid": "41f7106628fe498b71e947d2a92f4eff9b7e6023"
      },
      "cell_type": "markdown",
      "source": "Lets plot a histogram of the product value and freight value to understand the skewness of the data."
    },
    {
      "metadata": {
        "trusted": true,
        "_uuid": "be3a6e7f2dd2a3882f78ac96cd4e2ed66b1562e4"
      },
      "cell_type": "code",
      "source": "plt.figure(figsize=(12,10))\n\nplt.subplot(221)\ng = sns.distplot(np.log(order['order_products_value'] + 1))\ng.set_title(\"Product Value of Orders - Distribution\", fontsize=15)\ng.set_xlabel(\"\")\ng.set_ylabel(\"Frequency\", fontsize=12)\n\nplt.subplot(222)\ng1 = sns.distplot(np.log(order['order_freight_value'] + 1))\ng1.set_title(\"Freight Value of Orders - Distribution\", fontsize=15)\ng1.set_xlabel(\"\")\ng1.set_ylabel(\"Frequency\", fontsize=12)\n",
      "execution_count": null,
      "outputs": []
    },
    {
      "metadata": {
        "_uuid": "6ce0788f9b3b3c6d24b53846055c64f81f49cd47"
      },
      "cell_type": "markdown",
      "source": "Both the distributions seems to follow a normal curve.Lets check the skewness and kurtosis."
    },
    {
      "metadata": {
        "trusted": true,
        "_uuid": "9811a82cb7202c21fccbda5415eb0411ac7209b0"
      },
      "cell_type": "code",
      "source": "print(\"Skewness of the transaction value:\",skew(np.log(order['order_products_value']+1)))\nprint(\"Excess Kurtosis of the transaction value:\",kurtosis(np.log(order['order_products_value']+1)))",
      "execution_count": null,
      "outputs": []
    },
    {
      "metadata": {
        "_uuid": "ac14d80561976a0cf26101e2d6f3f1375bed33b5"
      },
      "cell_type": "markdown",
      "source": "Skewness of the data suggests that the data is fairly symmetrical and positive whereas kurtosis value is  < 3."
    },
    {
      "metadata": {
        "_uuid": "e3bb9e40771e4ac8072fda3d9e109f503c05bdb1"
      },
      "cell_type": "markdown",
      "source": "### Number of products people usually order:"
    },
    {
      "metadata": {
        "trusted": true,
        "_uuid": "25fc0781812c7f3164bb7f1b29b18acbcf932743"
      },
      "cell_type": "code",
      "source": "order_usual=order.groupby('order_id')['order_items_qty'].aggregate('sum').reset_index()\norder_usual=order_usual['order_items_qty'].value_counts()\norder_usual.head()",
      "execution_count": null,
      "outputs": []
    },
    {
      "metadata": {
        "trusted": true,
        "_uuid": "80cafa2bca9e047f67c9e87d0057f7759f748175"
      },
      "cell_type": "code",
      "source": "plt.figure(figsize=(8,8))\nax=sns.barplot(x=order_usual.index,y=order_usual.values,color=\"green\")\nax.set_xlabel(\"Number of products added in order\")\nax.set_ylabel(\"Number of orders\")\nax.set_title(\"Number of products people usually order\")\nax.set_xticklabels(ax.get_xticklabels(),rotation=90)",
      "execution_count": null,
      "outputs": []
    },
    {
      "metadata": {
        "_uuid": "924a67b195cf2a32786ad0eaaa35aed3defe6ad5"
      },
      "cell_type": "markdown",
      "source": "Most of them have ordered only 1 product.The number of people ordering more than 2 items is very less."
    },
    {
      "metadata": {
        "_uuid": "fe7984a84b6ff01bb7067d672411e1aee5a8561c"
      },
      "cell_type": "markdown",
      "source": "### Most Bought product categories:"
    },
    {
      "metadata": {
        "trusted": true,
        "_uuid": "4b979a00a150898bb0ce47672c3631bec33c4f12"
      },
      "cell_type": "code",
      "source": "order_product=pd.merge(order,product,on='product_category_name',how='left')\norder_product.shape",
      "execution_count": null,
      "outputs": []
    },
    {
      "metadata": {
        "trusted": true,
        "_uuid": "b5150457ae6068e032565aadf0f9bff95aaaf718"
      },
      "cell_type": "code",
      "source": "most_product=order_product.groupby('product_category_name_english').aggregate({'order_id':'count'}).rename(columns={'order_id':'order_count'}).sort_values(by='order_count',ascending=False).reset_index()\nmost_product.head()",
      "execution_count": null,
      "outputs": []
    },
    {
      "metadata": {
        "trusted": true,
        "_uuid": "44a0e4639c1e4c25182bca034253ad90abe005ce"
      },
      "cell_type": "code",
      "source": "### Visualising top 10 most bought product categories:\nsns.barplot(x='product_category_name_english',y='order_count',data=most_product[:10],color=\"blue\")\nplt.xlabel(\"Product Category\")\nplt.ylabel(\"Total Number of orders\")\nplt.title(\"Most bought product categories\")\nplt.xticks(rotation='vertical')\nplt.show()",
      "execution_count": null,
      "outputs": []
    },
    {
      "metadata": {
        "_uuid": "b234d37904ff89d62d54d079b3fd6496fd4e57d0"
      },
      "cell_type": "markdown",
      "source": "Bed Bath table,health beauty,sports are some categories that are bought most often by the customers.The difference in order count between bed bath table and health beauty is high."
    },
    {
      "metadata": {
        "_uuid": "9d09f7284e1397b268fec228ecaa68ec4078dcbd"
      },
      "cell_type": "markdown",
      "source": "### Order Trend:"
    },
    {
      "metadata": {
        "trusted": true,
        "_uuid": "0aceea66de90465e948913ad89a44d64894bbe00"
      },
      "cell_type": "code",
      "source": "order['order_purchase_timestamp']=pd.to_datetime(order['order_purchase_timestamp'])\norder['order_delivered_customer_date']=pd.to_datetime(order['order_delivered_customer_date'])",
      "execution_count": null,
      "outputs": []
    },
    {
      "metadata": {
        "trusted": true,
        "_uuid": "90eb7477af01397df9b48f107e84ae2ff3d6273e"
      },
      "cell_type": "code",
      "source": "## Create new columns for date,day,time,month:\norder['weekday']=order['order_purchase_timestamp'].dt.weekday_name\norder['year']=order['order_purchase_timestamp'].dt.year\norder['monthday']=order['order_purchase_timestamp'].dt.day\norder['weekday'] = order['order_purchase_timestamp'].dt.weekday\norder['month']=order['order_purchase_timestamp'].dt.month\norder['hour']=order['order_purchase_timestamp'].dt.hour",
      "execution_count": null,
      "outputs": []
    },
    {
      "metadata": {
        "trusted": true,
        "_uuid": "b293262a5fe025c8389bc41504e60dc56dcb5bce"
      },
      "cell_type": "code",
      "source": "# Trend by Year:\ntrend_year=pd.DataFrame(order.groupby('year')['order_products_value'].sum().sort_values(ascending=False)).reset_index()\nax=sns.barplot(x='year',y='order_products_value',data=trend_year,palette=sns.set_palette(palette='viridis_r'))\n#ax.ticklabel_format()\nax.set_xlabel('Year')\nax.set_ylabel('Total Transaction Value')\nax.set_title('Transaction Value by Year')",
      "execution_count": null,
      "outputs": []
    },
    {
      "metadata": {
        "_uuid": "5ba01630b3530a96b3ab4ee098dabf71e3511541"
      },
      "cell_type": "markdown",
      "source": "The data is available from Sept 2016 to Sept 2018 . Therefore we see a very low sales for the year 2016 .Entire year data is available for 2017 and hence that year is on the higher side whereas sales till Sept for 2018 is plotted.For lack of entire data,we are unable to conclude any significant findings here."
    },
    {
      "metadata": {
        "trusted": true,
        "_uuid": "60e28c30cf0679148b464df79436f88b1972e2b8"
      },
      "cell_type": "code",
      "source": "## Boxplot for transactions by year:\nplt.figure(figsize=(8,8))\nax=sns.boxplot(x='year',y='order_products_value',data=order,palette=sns.set_palette(palette='viridis_r'))\nax.set_xlabel('Year')\nax.set_ylabel('Total Value')\nax.set_title('Box Plot of transactions over the year')",
      "execution_count": null,
      "outputs": []
    },
    {
      "metadata": {
        "_uuid": "5ad0bd190ffc316cc162300a7f7ec21517158efc"
      },
      "cell_type": "markdown",
      "source": "We find that most of the transaction fall below BRL 2000 . There are more outliers for the year 2017 ( since there is complete one year data for this).The maximum transaction value has been 14000 . "
    },
    {
      "metadata": {
        "_uuid": "3850ceb506f54d9e34a678bd9fb2c802bfd2c0bf"
      },
      "cell_type": "markdown",
      "source": "### Average value of transactions per month:"
    },
    {
      "metadata": {
        "trusted": true,
        "_uuid": "c4950ff631d30464c07566d6d340e181303844ad"
      },
      "cell_type": "code",
      "source": "## The below code is inspired from Sbans kernel -https://www.kaggle.com/shivamb/deep-exploration-of-gun-violence-in-us \ntrend_month=pd.DataFrame(order.groupby('month').agg({'order_products_value':'mean'}).rename(columns={'order_products_value':'mean_transaction'})).reset_index()\nx1 = trend_month.month.tolist()\ny1 = trend_month.mean_transaction.tolist()\nmapp = {}\nfor m,v in zip(x1, y1):\n    mapp[m] = v\nxn = [calendar.month_abbr[int(x)] for x in sorted(x1)]\nvn = [mapp[x] for x in sorted(x1)]\n\nplt.figure(figsize=(10,7))\nax=sns.barplot(x=xn,y=vn, color='#ed5569')\nax.set_title(\"Average value of transaction per month\")\nax.set_xlabel('Month')\nax.set_ylabel('Value')",
      "execution_count": null,
      "outputs": []
    },
    {
      "metadata": {
        "_uuid": "77f630e5b5cabfc7b4ffd9b0a35d926622696988"
      },
      "cell_type": "markdown",
      "source": "The average value of transaction is high during the month of October and September."
    },
    {
      "metadata": {
        "_uuid": "61906603d8cce4e6e6659ad57122b9a5b60e9048"
      },
      "cell_type": "markdown",
      "source": "### Average value of transaction by day of the week:"
    },
    {
      "metadata": {
        "trusted": true,
        "_uuid": "445949260f1dda6fc4bad1f239137830903cedd4"
      },
      "cell_type": "code",
      "source": "trend_weekday=pd.DataFrame(order.groupby('weekday').agg({'order_products_value':'mean'}).rename(columns={'order_products_value':'Mean_Transaction'})).reset_index()",
      "execution_count": null,
      "outputs": []
    },
    {
      "metadata": {
        "trusted": true,
        "_uuid": "30514a55b896dae9ad8ce7ed98e2c379d02956ce"
      },
      "cell_type": "code",
      "source": "x2 = trend_weekday.index.tolist()\ny2 = trend_weekday.Mean_Transaction.tolist()\n\nweekmap = {0:'Mon', 1:'Tue', 2:'Wed', 3:'Thu', 4:'Fri', 5:'Sat', 6:'Sun'}\nx2 = [weekmap[x] for x in x2]\nwkmp = {}\nfor j,x in enumerate(x2):\n    wkmp[x] = y2[j]\norder_week = list(weekmap.values())\nordervals = [wkmp[val] for val in order_week]\n\nplt.figure(figsize=(10,7))\nax=sns.barplot(x=order_week,y=ordervals, color='#ed5569')\nax.set_title(\"Average value of transaction by day of the week\")\nax.set_xlabel('Day')\nax.set_ylabel('Value')",
      "execution_count": null,
      "outputs": []
    },
    {
      "metadata": {
        "_uuid": "29698dab4f435150d76a2981749e83a1e4067db2"
      },
      "cell_type": "markdown",
      "source": "There seems to be not much trend observed during the day of the transaction . Lets check the frequency of the orders."
    },
    {
      "metadata": {
        "trusted": true,
        "_uuid": "52b3c8f230d257e4ed009ee29bc58e4129d4b111"
      },
      "cell_type": "code",
      "source": "freq_weekday=pd.DataFrame(order.groupby('weekday').agg({'order_id':'count'}).rename(columns={'order_id':'order_count'})).reset_index()",
      "execution_count": null,
      "outputs": []
    },
    {
      "metadata": {
        "trusted": true,
        "_uuid": "d6c1efd3d1551d2ba2ca367eb128182924a09156"
      },
      "cell_type": "code",
      "source": "x3 = freq_weekday.index.tolist()\ny3 = freq_weekday.order_count.tolist()\n\nweekmap = {0:'Mon', 1:'Tue', 2:'Wed', 3:'Thu', 4:'Fri', 5:'Sat', 6:'Sun'}\nx3 = [weekmap[x] for x in x3]\nwkmp = {}\nfor j,x in enumerate(x3):\n    wkmp[x] = y3[j]\norder_week = list(weekmap.values())\nordervals = [wkmp[val] for val in order_week]\n\nplt.figure(figsize=(10,7))\nax=sns.barplot(x=order_week,y=ordervals, palette=sns.color_palette(palette=\"Set2\"))\nax.set_title(\"Total Number of orders by day of the week\")\nax.set_xlabel('Day')\nax.set_ylabel('Value')",
      "execution_count": null,
      "outputs": []
    },
    {
      "metadata": {
        "_uuid": "1669e75970c19225e0bd258e8975b4b7beeb5a8a"
      },
      "cell_type": "markdown",
      "source": "The frequency of the orders has been higher on Mon,Tue whereas the freq of orders is low during Saturday and sundays.This means that during weekend people are not interested in online shopping going only by the frequency of the orders but combining this with the average value of transactions during the day there is a relatively high average value of transaction happening during saturdays compared to other days."
    },
    {
      "metadata": {
        "trusted": true,
        "_uuid": "91cd6fe205aeee8d9793f5896cedeeef1cfadc01"
      },
      "cell_type": "code",
      "source": "week=pd.merge(trend_weekday,freq_weekday,on='weekday',how='inner')",
      "execution_count": null,
      "outputs": []
    },
    {
      "metadata": {
        "trusted": true,
        "_uuid": "68948392241d28f70c81674f914906ad05b3c3ff"
      },
      "cell_type": "code",
      "source": "plt.figure(figsize=(8,8))\nsns.jointplot(x='Mean_Transaction', y='order_count',data=week, size=10,color='red')\nplt.ylabel('Order Count', fontsize=12)\nplt.xlabel('Average value of transaction', fontsize=12)\nplt.show()",
      "execution_count": null,
      "outputs": []
    },
    {
      "metadata": {
        "_uuid": "f0225315d769048a47beab5a2c9fbae1a04bdf73"
      },
      "cell_type": "markdown",
      "source": "### Order Trend by hour :"
    },
    {
      "metadata": {
        "trusted": true,
        "_uuid": "d0653bafab80b74f7e774828768da7d66d2fa440"
      },
      "cell_type": "code",
      "source": "trend_hour=order.groupby('hour').agg({'order_id':'count'}).rename(columns={'order_id':'freq_order'}).reset_index()",
      "execution_count": null,
      "outputs": []
    },
    {
      "metadata": {
        "trusted": true,
        "_uuid": "daca35f98b4d2678bf4bfe6c25c6098be62b1661"
      },
      "cell_type": "code",
      "source": "plt.figure(figsize=(8,8))\nax=sns.barplot(x=trend_hour['hour'],y=trend_hour['freq_order'],color=\"red\")\nax.set_xlabel('Hour of the day')\nax.set_ylabel('Order Count')\nax.set_title(\"Frequency of transaction over the hour\")",
      "execution_count": null,
      "outputs": []
    },
    {
      "metadata": {
        "_uuid": "5ba514e8f74e6bb67b7eba87d8635edfdb6d0efd"
      },
      "cell_type": "markdown",
      "source": "From the plot we see that the frequency of the order steadly rises as the day progresses and reaches the peak after noon and continues till 22 hrs . There is a dip in the transaction during evening time between 18-19 hrs and it sees a rise after that . "
    },
    {
      "metadata": {
        "_uuid": "44f37fe5c2f36ad1b357ba8a3c274e8e2943499e"
      },
      "cell_type": "markdown",
      "source": "### Frequency of orders during the hour over the day:"
    },
    {
      "metadata": {
        "trusted": true,
        "_uuid": "0d5afe34017813744beee76827ab641be6ce3140"
      },
      "cell_type": "code",
      "source": "day_hour=order.groupby(['weekday','hour']).agg({'order_id':'count'}).rename(columns={'order_id':'freq'}).reset_index()",
      "execution_count": null,
      "outputs": []
    },
    {
      "metadata": {
        "trusted": true,
        "_uuid": "83ca1476cf394321ba0610d727fd804ed55b8c81"
      },
      "cell_type": "code",
      "source": "day_hour.weekday=day_hour.weekday.map(weekmap)\nday_hour.head()",
      "execution_count": null,
      "outputs": []
    },
    {
      "metadata": {
        "trusted": true,
        "_uuid": "9b8c2e0976cf4f9391249d213eaf498bfc8a2e6d"
      },
      "cell_type": "code",
      "source": "### Sorting it so that the plot order is correct.\nday_hour['weekday']=pd.Categorical(day_hour['weekday'],categories=['Sun','Mon','Tue','Wed','Thu','Fri','Sat'],ordered=True)",
      "execution_count": null,
      "outputs": []
    },
    {
      "metadata": {
        "trusted": true,
        "_uuid": "d99f01be1d9c0d17e08ef2bf398c2be69f9f4121"
      },
      "cell_type": "code",
      "source": "day_hour=day_hour.pivot('weekday','hour','freq')",
      "execution_count": null,
      "outputs": []
    },
    {
      "metadata": {
        "trusted": true,
        "_uuid": "29703901f63adcadb7d1e3429681d5ef4f58d4d2"
      },
      "cell_type": "code",
      "source": "plt.figure(figsize=(15,8))\nax=sns.heatmap(day_hour,annot=True,fmt=\"d\",cmap=\"OrRd\")\nax.set_xlabel(\"Hour\")\nax.set_ylabel(\"Day\")\nax.set_title(\"Heatmap of tranactions over the hour by day\",size=10)",
      "execution_count": null,
      "outputs": []
    },
    {
      "metadata": {
        "_uuid": "d4bf7d5287626129a033fc8c8895e1da104c4369"
      },
      "cell_type": "markdown",
      "source": "* As the day progresses,the number of orders placed increases . \n* There is clearly a difference in the order frequency between weekdays and weekends . \n* While during weekdays , the order frequency increases steadly after 9 AM , the order frequency picks up only after 15:00 hrs during sundays . "
    },
    {
      "metadata": {
        "_uuid": "fe176928031daf08cb6284df2bb1632899e87068"
      },
      "cell_type": "markdown",
      "source": "### City.State and Transaction Value :"
    },
    {
      "metadata": {
        "trusted": true,
        "_uuid": "70783c415e1715e08cdc7195a74c6017834a0205"
      },
      "cell_type": "code",
      "source": "trans_state=pd.DataFrame(order.groupby('customer_state').agg({'order_products_value':'mean'}).rename(columns={'order_products_value':'avg_trans'}).sort_values(by='avg_trans',ascending=False)).reset_index()",
      "execution_count": null,
      "outputs": []
    },
    {
      "metadata": {
        "trusted": true,
        "_uuid": "cc78ec87130513a82dcec5e952836aa86e114391"
      },
      "cell_type": "code",
      "source": "plt.figure(figsize=(10,7))\nax=sns.barplot(x='customer_state',y='avg_trans',data=trans_state,palette=sns.color_palette(palette=\"viridis_r\"))\nax.set_xlabel('Customer State')\nax.set_xticklabels(ax.get_xticklabels(),rotation=90)\nax.set_ylabel('Avg transaction value')\nax.set_title(\"Average Transaction Value for each state\")",
      "execution_count": null,
      "outputs": []
    },
    {
      "metadata": {
        "_uuid": "ba39ee3b86f599f0fa9eb9de4aa5d0c63124d606"
      },
      "cell_type": "markdown",
      "source": "States Acre,Rondonia,Alagoas have a higher transaction value whereas Sao Paulo ,Minas Gerias have the lowest average transaction."
    },
    {
      "metadata": {
        "trusted": true,
        "_uuid": "bbdfb06d979f10707a9889e222c1820c775404fd"
      },
      "cell_type": "code",
      "source": "### By City :\ntrans_city=pd.DataFrame(order.groupby('customer_city').agg({'order_products_value':'mean'}).rename(columns={'order_products_value':'avg_trans'}).sort_values(by='avg_trans',ascending=False)).reset_index()",
      "execution_count": null,
      "outputs": []
    },
    {
      "metadata": {
        "trusted": true,
        "_uuid": "177472dfed4808a5344508441248be1991e23579"
      },
      "cell_type": "code",
      "source": "trans_city[:10]",
      "execution_count": null,
      "outputs": []
    },
    {
      "metadata": {
        "trusted": true,
        "_uuid": "715f2f64ec806f0e711a591c202c62c4b71ea665"
      },
      "cell_type": "code",
      "source": "plt.figure(figsize=(10,7))\nax=sns.barplot(x='customer_city',y='avg_trans',data=trans_city[:10],palette=sns.color_palette(palette=\"Set2\"))\nax.set_xlabel('Customer City')\nax.set_xticklabels(ax.get_xticklabels(),rotation=90)\nax.set_ylabel('Avg transaction value')\nax.set_title(\"Top 10 - Average Transaction Value for each City\")",
      "execution_count": null,
      "outputs": []
    },
    {
      "metadata": {
        "_uuid": "d12ec050a5d022529795a60c320c6afda4f35d5a"
      },
      "cell_type": "markdown",
      "source": "### Order Delivery :"
    },
    {
      "metadata": {
        "_uuid": "6f4e4fa7748c55b9bc54c9f719ae04f1682ec0b8"
      },
      "cell_type": "markdown",
      "source": "Lets check the average number of days between order and delivery."
    },
    {
      "metadata": {
        "trusted": true,
        "_uuid": "a95a63aae71ec4140210a304a428ad43f9c25043"
      },
      "cell_type": "code",
      "source": "order['day_to_delivery']=(order['order_delivered_customer_date']-order['order_purchase_timestamp']).dt.days",
      "execution_count": null,
      "outputs": []
    },
    {
      "metadata": {
        "trusted": true,
        "_uuid": "1dd4aaef76296d9612f878d78baf12ba819014b7"
      },
      "cell_type": "code",
      "source": "print(\"Average days to delivery {}\".format(np.round(order['day_to_delivery'].mean(),0)))",
      "execution_count": null,
      "outputs": []
    },
    {
      "metadata": {
        "_uuid": "00234a81a8f64377b47674c8f9f7be066c4d4817"
      },
      "cell_type": "markdown",
      "source": "Lets check the overall scenario."
    },
    {
      "metadata": {
        "trusted": true,
        "_uuid": "bc9fd9e5d76575822a55ed8677b68d4f4b7a0a20"
      },
      "cell_type": "code",
      "source": "delivery=order.groupby('day_to_delivery')['order_id'].aggregate({'order_id':'count'}).rename(columns={'order_id':'freq'}).reset_index().dropna()\ndelivery['freq']=delivery['freq'].astype(int)",
      "execution_count": null,
      "outputs": []
    },
    {
      "metadata": {
        "trusted": true,
        "_uuid": "3ec3db34016b113306fdaf5769a0f2581ea0da1d"
      },
      "cell_type": "code",
      "source": "plt.figure(figsize=(20,10))\nsns.barplot(x='day_to_delivery',y='freq',data=delivery,color=\"blue\")\nplt.title(\"Days to delivery\")\nplt.xlabel(\"Days\")\nplt.xticks(rotation=\"vertical\")\nplt.ylabel(\"Number of orders\")\nplt.show()",
      "execution_count": null,
      "outputs": []
    },
    {
      "metadata": {
        "_uuid": "f02587d865de8793ea47a0824627d951d6d1a068"
      },
      "cell_type": "markdown",
      "source": "A majority of the orders are getting delivered within a week whereas there were few orders that is taking over 1.5 months too ."
    },
    {
      "metadata": {
        "_uuid": "ef295c9d1fabbc16ac00fc6367559878fedccae1"
      },
      "cell_type": "markdown",
      "source": "### Payments :"
    },
    {
      "metadata": {
        "_uuid": "305b4e87b1c13f5b3c763335f0b5c50c176fef6e"
      },
      "cell_type": "markdown",
      "source": "Lets check the mode of payments used for transaction"
    },
    {
      "metadata": {
        "trusted": true,
        "_uuid": "51c6b9f8a3740dd73d0d975d074dd78f339c1a97"
      },
      "cell_type": "code",
      "source": "pay_type=payment.groupby('payment_type').aggregate({'order_id':'count'}).rename(columns={'order_id':'count'}).sort_values(by='count',ascending=False).reset_index()",
      "execution_count": null,
      "outputs": []
    },
    {
      "metadata": {
        "trusted": true,
        "_uuid": "b3b752b5ecd739fc5f67cdc7efc04228644652f1"
      },
      "cell_type": "code",
      "source": "pay_type['perc']=np.round((pay_type['count']/pay_type['count'].sum())*100,2)\n\nplt.figure(figsize=(8,8))\nax=sns.barplot(x='payment_type',y='count',data=pay_type,color='cyan')\nplt.title(\"Mode of Payment\")\nplt.xlabel('Payment Type')\nplt.ylabel('Number of instances')",
      "execution_count": null,
      "outputs": []
    },
    {
      "metadata": {
        "_uuid": "fd9e6d3eee75b75eef735515fca908b3316fecbf"
      },
      "cell_type": "markdown",
      "source": "A large number of online buyers use credit card their prefered mode of payment followed by boleto.According to [wiki](https://en.wikipedia.org/wiki/Boleto) ,boleto is a  a payment method in Brazil regulated by FEBRABAN, short for Brazilian Federation of Banks.A boleto can be paid at ATMs, branch facilities and internet banking of any Bank, Post Office, Lottery Agent and some supermarkets until its due date. After the due date it can only be paid at the issuer bank facilities.\n\nLets check the average value of transaction used for each type of payment."
    },
    {
      "metadata": {
        "trusted": true,
        "_uuid": "ca20d0bba7d2780683c28d53af237d9bad0a8abe"
      },
      "cell_type": "code",
      "source": "print(\"Average value of transaction on credit card : BRL {:,.0f}\".format(np.mean(payment[payment.payment_type=='credit_card']['value'])))\nprint(\"Average value of transaction on boleto : BRL {:,.0f}\".format(np.mean(payment[payment.payment_type=='boleto']['value'])))\nprint(\"Average value of transaction on voucher: BRL {:,.0f}\".format(np.mean(payment[payment.payment_type=='voucher']['value'])))\nprint(\"Average value of transaction on debit card: BRL {:,.0f}\".format(np.mean(payment[payment.payment_type=='debit_card']['value'])))",
      "execution_count": null,
      "outputs": []
    },
    {
      "metadata": {
        "_uuid": "b237c6d98019a4e7e253fd420d839abfb9b955e0"
      },
      "cell_type": "markdown",
      "source": "For each of the transaction types , the value at the quantiles is printed out for better interpretation . Distribution and box plot is also tried out for visualisation purpose."
    },
    {
      "metadata": {
        "trusted": true,
        "_uuid": "196e81c4e3f08062c4933d4f783c074954381523"
      },
      "cell_type": "code",
      "source": "print(\"Credit Card quantiles\")\nprint(payment[payment.payment_type=='credit_card']['value'].quantile([.01,.25,.5,.75,.99]))\nprint(\"\")\nprint(\"Boleto quantiles\")\nprint(payment[payment.payment_type=='boleto']['value'].quantile([.01,.25,.5,.75,.99]))\nprint(\"\")\nprint(\"Voucher quantiles\")\nprint(payment[payment.payment_type=='voucher']['value'].quantile([.01,.25,.5,.75,.99]))\nprint(\"\")\nprint(\"Debit Card quantiles\")\nprint(payment[payment.payment_type=='debit_card']['value'].quantile([.01,.25,.5,.75,.99]))",
      "execution_count": null,
      "outputs": []
    },
    {
      "metadata": {
        "_uuid": "517aade36d24d6d2530d8775d101f0c324f34e6a"
      },
      "cell_type": "markdown",
      "source": "For transactions greater than BRL 100 , people use debit card,boleto or credit card . For transaction of higher value , people have used credit mode of payment followed by bolero and then debit card . The preference of using vouchers for transaction is on the lower side .Lets check the distribution of the transactions."
    },
    {
      "metadata": {
        "trusted": true,
        "_uuid": "56e2964a50df1c67428217f0e6c08695c4ef3c6a"
      },
      "cell_type": "code",
      "source": "plt.figure(figsize=(10,8))\nax=sns.boxplot(x=payment.payment_type,y=payment.value,palette=sns.color_palette(palette=\"viridis_r\"))\nax.set_title(\"Boxplot for different payment type\")\nax.set_xlabel(\"Transaction type\")\nax.set_ylabel(\"Transaction Value\")\nax.set_xticklabels(ax.get_xticklabels(),rotation=90)\n\n",
      "execution_count": null,
      "outputs": []
    },
    {
      "metadata": {
        "trusted": true,
        "_uuid": "0c2378764379874b0d22b9d9665f0c9e5ba2e49c"
      },
      "cell_type": "code",
      "source": "payment=payment[payment['value']!=0]\nplt.figure(figsize=(10,8))\nplt.subplot(221)\nax=sns.distplot(np.log(payment[payment.payment_type=='credit_card']['value'])+1,color=\"red\")\nax.set_xlabel(\"Log Transaction value (BRL)\")\nax.set_ylabel(\"Frequency\")\nax.set_title(\"Distribution plot for credit card transactions\")\nplt.subplot(222)\nax1=sns.distplot(np.log(payment[payment.payment_type=='boleto']['value'])+1,color=\"red\")\nax1.set_xlabel(\"Log Transaction value (BRL)\")\nax1.set_ylabel(\"Frequency\")\nax1.set_title(\"Distribution plot for boleto transactions\")\nplt.subplot(223)\nax2=sns.distplot(np.log(payment[payment.payment_type=='debit_card']['value'])+1,color=\"red\")\nax2.set_xlabel(\"Log Transaction value (BRL)\")\nax2.set_ylabel(\"Frequency\")\nax2.set_title(\"Distribution plot for debit card transactions\")\nplt.subplot(224)\nax3=sns.distplot(np.log(payment[payment.payment_type=='voucher']['value'])+1,color=\"red\")\nax3.set_xlabel(\"Log Transaction value (BRL)\")\nax3.set_ylabel(\"Frequency\")\nax3.set_title(\"Distribution plot for voucher transactions\")\n\n\nplt.subplots_adjust(wspace = 0.5, hspace = 0.5,\n                    top = 1.3)\n\nplt.show()",
      "execution_count": null,
      "outputs": []
    },
    {
      "metadata": {
        "_uuid": "e9bba805760af79e9a42a1c93f7aad2d60aed75d"
      },
      "cell_type": "markdown",
      "source": "From the distribution & box plot we understand the following\n\nThe distribution for credit card type of transaction is nearly normal and from the boxplot it is seen that there are extreme outliers in this case.This means that for higher value of transactions ,people prefer to buy on credit and pay later.\nTransaction through boleto is multimodal and seems to be for lesser value of BRL and here too the transactions are dominated by outliers.There seems to be a significant difference between credit card and boleto type of transactions .\nDebit card and vouchers are not used much and there are two modes dominating the distribution plot ."
    },
    {
      "metadata": {
        "_uuid": "8df5676345b3b51e63ca496b429c5d60dbcc3529"
      },
      "cell_type": "markdown",
      "source": "### Analysis on Sellers:"
    },
    {
      "metadata": {
        "trusted": true,
        "_uuid": "26e20522caff1683f118b6067d415873f2fe65b6"
      },
      "cell_type": "code",
      "source": "### Joining with the transaction data:\norder_pay=pd.merge(order,sellers,how='left',on=['order_id','product_id'])\norder_pay.shape",
      "execution_count": null,
      "outputs": []
    },
    {
      "metadata": {
        "_uuid": "25c862a21c9ec6d58c11bd3d0e039e8a4aea8252"
      },
      "cell_type": "markdown",
      "source": "#### Sellers who have sold most number of products:"
    },
    {
      "metadata": {
        "trusted": true,
        "_uuid": "1a67e651fa3d43110dbb4d6c55a94e5e177f804d"
      },
      "cell_type": "code",
      "source": "plt.figure(figsize=(18,6))\nax=sns.barplot(order_pay['seller_id'].value_counts()[:15].index,order_pay['seller_id'].value_counts()[:15].values,palette='Set2')\nax.set_title('Top 15 sellers in Olist')\nax.set_xticklabels(ax.get_xticklabels(),rotation=90)\nplt.show()",
      "execution_count": null,
      "outputs": []
    },
    {
      "metadata": {
        "_uuid": "d3c667e865c8c2631dd33c49905dfd0f3c29268f"
      },
      "cell_type": "markdown",
      "source": "Lets see the top 3 products sold by each of these sellers.\n"
    },
    {
      "metadata": {
        "trusted": true,
        "_uuid": "d5d468f5a5cc2033920f89b76d4d022b33a8de23"
      },
      "cell_type": "code",
      "source": "top_15=order_pay.groupby('seller_id').apply(lambda x:x['product_category_name'].unique()).to_frame().reset_index()\ntop_15.columns=['seller_id','products']\ntop_15['product_count']=[len(c) for c in top_15['products']]\ntop_15.sort_values(by='product_count',ascending=False,inplace=True)",
      "execution_count": null,
      "outputs": []
    },
    {
      "metadata": {
        "trusted": true,
        "_uuid": "89ae748463d3593c56727fe7af994b7d257db642"
      },
      "cell_type": "code",
      "source": "top_15.head(15)",
      "execution_count": null,
      "outputs": []
    },
    {
      "metadata": {
        "trusted": true,
        "_uuid": "e67211d503ca2ee61b300e9ff484b47cedb79bb5"
      },
      "cell_type": "markdown",
      "source": "There are 21 products sold by one seller.Overall the top 15 sellers by product count have 13 to 21 products in their portfolio."
    },
    {
      "metadata": {
        "_uuid": "344b24370e8311213962ad878f18040519b4f6fb"
      },
      "cell_type": "markdown",
      "source": "### Summary :\nThe following are some of the key points noted from the Olist E commerce analysis.\n\n* Maximum order amount is BRL 13440 and Minumum order amount is BRL 2.\n* Most of the time,the number of products ordered has always been < 3 .Bed Bath table,health beauty,sports are some categories that are bought most often by the customers.\n* The frequency of the orders has been higher on Mon,Tue whereas the frequency of orders is low during Saturday and sundays.\n* In a day,the number of transactions happening rises after 11 and continues till 22:00 Hrs.\n* Average time taken for delivery is a week and maximum has gone up to 1.5 months.\n* Credit card,boleto have been used for transactions of high value whereas people prefer using vouchers for low transaction values.\n* The anonymised seller data tells that the top 15 sellers with maximum portfolio of products have 13 to 21 products in their category ."
    }
  ],
  "metadata": {
    "kernelspec": {
      "display_name": "Python 3",
      "language": "python",
      "name": "python3"
    },
    "language_info": {
      "name": "python",
      "version": "3.6.6",
      "mimetype": "text/x-python",
      "codemirror_mode": {
        "name": "ipython",
        "version": 3
      },
      "pygments_lexer": "ipython3",
      "nbconvert_exporter": "python",
      "file_extension": ".py"
    }
  },
  "nbformat": 4,
  "nbformat_minor": 1
}